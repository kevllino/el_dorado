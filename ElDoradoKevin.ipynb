{
 "cells": [
  {
   "cell_type": "code",
   "execution_count": 136,
   "metadata": {
    "collapsed": false
   },
   "outputs": [],
   "source": [
    "%matplotlib inline\n",
    "\n",
    "import numpy as np\n",
    "import pandas as pd\n",
    "tls.set_credentials_file(username='kevllino', api_key='ji1c5fp7w0')\n",
    "import matplotlib.pyplot as plt\n",
    "import plotly.plotly as py\n",
    "import plotly.graph_objs as go\n",
    "import plotly.tools as tls\n",
    "from sklearn.cluster import KMeans\n",
    "from scipy.spatial.distance import cdist, pdist\n",
    "from sklearn.preprocessing import PolynomialFeatures\n",
    "from sklearn import linear_model"
   ]
  },
  {
   "cell_type": "markdown",
   "metadata": {},
   "source": [
    "## Data Collection "
   ]
  },
  {
   "cell_type": "code",
   "execution_count": 125,
   "metadata": {
    "collapsed": false
   },
   "outputs": [],
   "source": [
    "sample_data = pd.read_csv(\"data/sample_data.csv\")\n",
    "costs_data = pd.read_csv(\"data/costs_data.csv\")\n",
    "auction_parcels = pd.read_csv(\"data/auction_parcels.csv\")\n",
    "elevation_data = pd.read_csv(\"data/elevation_data.csv\")"
   ]
  },
  {
   "cell_type": "code",
   "execution_count": 126,
   "metadata": {
    "collapsed": false
   },
   "outputs": [
    {
     "data": {
      "text/html": [
       "<div>\n",
       "<table border=\"1\" class=\"dataframe\">\n",
       "  <thead>\n",
       "    <tr style=\"text-align: right;\">\n",
       "      <th></th>\n",
       "      <th>gold_available</th>\n",
       "    </tr>\n",
       "  </thead>\n",
       "  <tbody>\n",
       "    <tr>\n",
       "      <th>0</th>\n",
       "      <td>3901.517878</td>\n",
       "    </tr>\n",
       "    <tr>\n",
       "      <th>1</th>\n",
       "      <td>17523.530328</td>\n",
       "    </tr>\n",
       "    <tr>\n",
       "      <th>2</th>\n",
       "      <td>4537.823944</td>\n",
       "    </tr>\n",
       "    <tr>\n",
       "      <th>3</th>\n",
       "      <td>21601.105930</td>\n",
       "    </tr>\n",
       "    <tr>\n",
       "      <th>4</th>\n",
       "      <td>21186.862192</td>\n",
       "    </tr>\n",
       "  </tbody>\n",
       "</table>\n",
       "</div>"
      ],
      "text/plain": [
       "   gold_available\n",
       "0     3901.517878\n",
       "1    17523.530328\n",
       "2     4537.823944\n",
       "3    21601.105930\n",
       "4    21186.862192"
      ]
     },
     "execution_count": 126,
     "metadata": {},
     "output_type": "execute_result"
    }
   ],
   "source": [
    "sample_data[[\"gold_available\"]].head()"
   ]
  },
  {
   "cell_type": "markdown",
   "metadata": {},
   "source": [
    "## Data Preprocessing and exploration\n",
    "\n",
    "We first enriched the sample data with the elevation feature, then we mapped the continuous values to one of the 2 x 3 elevation categories for fixed and variable costs: \n",
    "\n",
    "### Elevation for Fixed Costs\n",
    "<ul>\n",
    "<li><b>Low Elevation</b>: \tElevation < 0m </li>\n",
    "<li><b>Medium Elevation</b>: 0m < Elevation <= 500m</li>\n",
    "<li><b>High Elevation</b>: Elevation > 500m</li>\n",
    "</ul>\n",
    "\n",
    "### Elevation for Variable Costs\n",
    "<ul>\n",
    "<li><b>Low Elevation</b>: \tElevation < 0m </li>\n",
    "<li><b>Medium Elevation</b>: 0m < Elevation <= 700m</li>\n",
    "<li><b>High Elevation</b>: Elevation > 700m</li>\n",
    "</ul>"
   ]
  },
  {
   "cell_type": "code",
   "execution_count": 127,
   "metadata": {
    "collapsed": false
   },
   "outputs": [],
   "source": [
    "elevation = elevation_data.drop([\"Easting\",\"Northing\"],axis = 1)\n",
    "sample = sample_data.merge(elevation, on=\"parcel_id\")"
   ]
  },
  {
   "cell_type": "code",
   "execution_count": 128,
   "metadata": {
    "collapsed": false
   },
   "outputs": [],
   "source": [
    "def map_to_fixed_elevation(row, threshold): \n",
    "    if row[\"elevation\"]  < 0: \n",
    "        return 0 \n",
    "    elif row[\"elevation\"] > 0 and row[\"elevation\"]  <= threshold: \n",
    "        return 1 \n",
    "    elif row[\"elevation\"] > threshold: \n",
    "        return 2\n",
    "    "
   ]
  },
  {
   "cell_type": "code",
   "execution_count": 129,
   "metadata": {
    "collapsed": false
   },
   "outputs": [
    {
     "data": {
      "text/html": [
       "<div>\n",
       "<table border=\"1\" class=\"dataframe\">\n",
       "  <thead>\n",
       "    <tr style=\"text-align: right;\">\n",
       "      <th></th>\n",
       "      <th>parcel_id</th>\n",
       "      <th>Easting</th>\n",
       "      <th>Northing</th>\n",
       "      <th>Pyerite</th>\n",
       "      <th>Mexallon</th>\n",
       "      <th>Tritanium</th>\n",
       "      <th>Megacyte</th>\n",
       "      <th>Nocxium</th>\n",
       "      <th>Isogen</th>\n",
       "      <th>Veldspar</th>\n",
       "      <th>...</th>\n",
       "      <th>Spudumain</th>\n",
       "      <th>Gneiss</th>\n",
       "      <th>Arkonor</th>\n",
       "      <th>Mercoxit</th>\n",
       "      <th>Bistot</th>\n",
       "      <th>Crokite</th>\n",
       "      <th>gold_available</th>\n",
       "      <th>elevation</th>\n",
       "      <th>fixed_cost</th>\n",
       "      <th>variable_cost</th>\n",
       "    </tr>\n",
       "  </thead>\n",
       "  <tbody>\n",
       "    <tr>\n",
       "      <th>count</th>\n",
       "      <td>5000.000000</td>\n",
       "      <td>5000.000000</td>\n",
       "      <td>5000.000000</td>\n",
       "      <td>5000.000000</td>\n",
       "      <td>5000.000000</td>\n",
       "      <td>5000.000000</td>\n",
       "      <td>5000.000000</td>\n",
       "      <td>5000.000000</td>\n",
       "      <td>5000.000000</td>\n",
       "      <td>5000.000000</td>\n",
       "      <td>...</td>\n",
       "      <td>5000.000000</td>\n",
       "      <td>5000.000000</td>\n",
       "      <td>5000.000000</td>\n",
       "      <td>5000.000000</td>\n",
       "      <td>5000.000000</td>\n",
       "      <td>5000.000000</td>\n",
       "      <td>5000.000000</td>\n",
       "      <td>5000.000000</td>\n",
       "      <td>5000.000000</td>\n",
       "      <td>5000.000000</td>\n",
       "    </tr>\n",
       "    <tr>\n",
       "      <th>mean</th>\n",
       "      <td>11261.941400</td>\n",
       "      <td>74.891400</td>\n",
       "      <td>75.077000</td>\n",
       "      <td>114.690044</td>\n",
       "      <td>108.480667</td>\n",
       "      <td>107.407900</td>\n",
       "      <td>111.709613</td>\n",
       "      <td>112.205520</td>\n",
       "      <td>114.327617</td>\n",
       "      <td>105.865743</td>\n",
       "      <td>...</td>\n",
       "      <td>146.831750</td>\n",
       "      <td>113.603848</td>\n",
       "      <td>106.709769</td>\n",
       "      <td>111.338126</td>\n",
       "      <td>112.268864</td>\n",
       "      <td>108.443991</td>\n",
       "      <td>12374.911196</td>\n",
       "      <td>409.016811</td>\n",
       "      <td>1.215000</td>\n",
       "      <td>1.075200</td>\n",
       "    </tr>\n",
       "    <tr>\n",
       "      <th>std</th>\n",
       "      <td>6425.913782</td>\n",
       "      <td>43.521685</td>\n",
       "      <td>42.837907</td>\n",
       "      <td>22.387161</td>\n",
       "      <td>6.932708</td>\n",
       "      <td>9.674488</td>\n",
       "      <td>18.352131</td>\n",
       "      <td>9.765217</td>\n",
       "      <td>17.217109</td>\n",
       "      <td>5.258676</td>\n",
       "      <td>...</td>\n",
       "      <td>21.673469</td>\n",
       "      <td>11.787317</td>\n",
       "      <td>7.383663</td>\n",
       "      <td>7.666121</td>\n",
       "      <td>11.790360</td>\n",
       "      <td>5.671461</td>\n",
       "      <td>6067.684876</td>\n",
       "      <td>503.698083</td>\n",
       "      <td>0.771034</td>\n",
       "      <td>0.703736</td>\n",
       "    </tr>\n",
       "    <tr>\n",
       "      <th>min</th>\n",
       "      <td>4.000000</td>\n",
       "      <td>0.500000</td>\n",
       "      <td>0.500000</td>\n",
       "      <td>19.856209</td>\n",
       "      <td>84.861319</td>\n",
       "      <td>66.911702</td>\n",
       "      <td>29.903756</td>\n",
       "      <td>75.707857</td>\n",
       "      <td>22.157819</td>\n",
       "      <td>91.864452</td>\n",
       "      <td>...</td>\n",
       "      <td>51.141385</td>\n",
       "      <td>73.248565</td>\n",
       "      <td>76.066022</td>\n",
       "      <td>86.084987</td>\n",
       "      <td>62.569692</td>\n",
       "      <td>87.749107</td>\n",
       "      <td>2357.148816</td>\n",
       "      <td>-1359.020531</td>\n",
       "      <td>0.000000</td>\n",
       "      <td>0.000000</td>\n",
       "    </tr>\n",
       "    <tr>\n",
       "      <th>25%</th>\n",
       "      <td>5748.750000</td>\n",
       "      <td>37.500000</td>\n",
       "      <td>38.500000</td>\n",
       "      <td>100.682505</td>\n",
       "      <td>103.575101</td>\n",
       "      <td>101.260272</td>\n",
       "      <td>100.226674</td>\n",
       "      <td>105.278671</td>\n",
       "      <td>103.227686</td>\n",
       "      <td>102.217591</td>\n",
       "      <td>...</td>\n",
       "      <td>131.925339</td>\n",
       "      <td>105.378566</td>\n",
       "      <td>101.736307</td>\n",
       "      <td>105.736392</td>\n",
       "      <td>104.255459</td>\n",
       "      <td>104.359193</td>\n",
       "      <td>7199.592697</td>\n",
       "      <td>62.409200</td>\n",
       "      <td>1.000000</td>\n",
       "      <td>1.000000</td>\n",
       "    </tr>\n",
       "    <tr>\n",
       "      <th>50%</th>\n",
       "      <td>11200.500000</td>\n",
       "      <td>74.500000</td>\n",
       "      <td>74.500000</td>\n",
       "      <td>112.257269</td>\n",
       "      <td>107.522212</td>\n",
       "      <td>106.145377</td>\n",
       "      <td>109.758230</td>\n",
       "      <td>110.890648</td>\n",
       "      <td>112.481474</td>\n",
       "      <td>105.049074</td>\n",
       "      <td>...</td>\n",
       "      <td>145.573532</td>\n",
       "      <td>111.751614</td>\n",
       "      <td>105.857703</td>\n",
       "      <td>110.418789</td>\n",
       "      <td>110.704721</td>\n",
       "      <td>107.633955</td>\n",
       "      <td>11902.142387</td>\n",
       "      <td>411.031675</td>\n",
       "      <td>1.000000</td>\n",
       "      <td>1.000000</td>\n",
       "    </tr>\n",
       "    <tr>\n",
       "      <th>75%</th>\n",
       "      <td>16754.000000</td>\n",
       "      <td>112.500000</td>\n",
       "      <td>111.500000</td>\n",
       "      <td>127.363743</td>\n",
       "      <td>112.453893</td>\n",
       "      <td>112.600010</td>\n",
       "      <td>121.856395</td>\n",
       "      <td>117.995928</td>\n",
       "      <td>123.523854</td>\n",
       "      <td>108.912550</td>\n",
       "      <td>...</td>\n",
       "      <td>160.569686</td>\n",
       "      <td>120.323985</td>\n",
       "      <td>110.831962</td>\n",
       "      <td>115.892401</td>\n",
       "      <td>118.899349</td>\n",
       "      <td>111.620794</td>\n",
       "      <td>17119.390322</td>\n",
       "      <td>760.320730</td>\n",
       "      <td>2.000000</td>\n",
       "      <td>2.000000</td>\n",
       "    </tr>\n",
       "    <tr>\n",
       "      <th>max</th>\n",
       "      <td>22498.000000</td>\n",
       "      <td>149.500000</td>\n",
       "      <td>149.500000</td>\n",
       "      <td>233.739627</td>\n",
       "      <td>140.378133</td>\n",
       "      <td>156.583507</td>\n",
       "      <td>199.787150</td>\n",
       "      <td>167.262641</td>\n",
       "      <td>201.763854</td>\n",
       "      <td>137.119403</td>\n",
       "      <td>...</td>\n",
       "      <td>234.105254</td>\n",
       "      <td>172.571132</td>\n",
       "      <td>146.902636</td>\n",
       "      <td>149.420274</td>\n",
       "      <td>178.824065</td>\n",
       "      <td>136.771507</td>\n",
       "      <td>31142.774584</td>\n",
       "      <td>2078.685616</td>\n",
       "      <td>2.000000</td>\n",
       "      <td>2.000000</td>\n",
       "    </tr>\n",
       "  </tbody>\n",
       "</table>\n",
       "<p>8 rows × 22 columns</p>\n",
       "</div>"
      ],
      "text/plain": [
       "          parcel_id      Easting     Northing      Pyerite     Mexallon  \\\n",
       "count   5000.000000  5000.000000  5000.000000  5000.000000  5000.000000   \n",
       "mean   11261.941400    74.891400    75.077000   114.690044   108.480667   \n",
       "std     6425.913782    43.521685    42.837907    22.387161     6.932708   \n",
       "min        4.000000     0.500000     0.500000    19.856209    84.861319   \n",
       "25%     5748.750000    37.500000    38.500000   100.682505   103.575101   \n",
       "50%    11200.500000    74.500000    74.500000   112.257269   107.522212   \n",
       "75%    16754.000000   112.500000   111.500000   127.363743   112.453893   \n",
       "max    22498.000000   149.500000   149.500000   233.739627   140.378133   \n",
       "\n",
       "         Tritanium     Megacyte      Nocxium       Isogen     Veldspar  \\\n",
       "count  5000.000000  5000.000000  5000.000000  5000.000000  5000.000000   \n",
       "mean    107.407900   111.709613   112.205520   114.327617   105.865743   \n",
       "std       9.674488    18.352131     9.765217    17.217109     5.258676   \n",
       "min      66.911702    29.903756    75.707857    22.157819    91.864452   \n",
       "25%     101.260272   100.226674   105.278671   103.227686   102.217591   \n",
       "50%     106.145377   109.758230   110.890648   112.481474   105.049074   \n",
       "75%     112.600010   121.856395   117.995928   123.523854   108.912550   \n",
       "max     156.583507   199.787150   167.262641   201.763854   137.119403   \n",
       "\n",
       "           ...          Spudumain       Gneiss      Arkonor     Mercoxit  \\\n",
       "count      ...        5000.000000  5000.000000  5000.000000  5000.000000   \n",
       "mean       ...         146.831750   113.603848   106.709769   111.338126   \n",
       "std        ...          21.673469    11.787317     7.383663     7.666121   \n",
       "min        ...          51.141385    73.248565    76.066022    86.084987   \n",
       "25%        ...         131.925339   105.378566   101.736307   105.736392   \n",
       "50%        ...         145.573532   111.751614   105.857703   110.418789   \n",
       "75%        ...         160.569686   120.323985   110.831962   115.892401   \n",
       "max        ...         234.105254   172.571132   146.902636   149.420274   \n",
       "\n",
       "            Bistot      Crokite  gold_available    elevation   fixed_cost  \\\n",
       "count  5000.000000  5000.000000     5000.000000  5000.000000  5000.000000   \n",
       "mean    112.268864   108.443991    12374.911196   409.016811     1.215000   \n",
       "std      11.790360     5.671461     6067.684876   503.698083     0.771034   \n",
       "min      62.569692    87.749107     2357.148816 -1359.020531     0.000000   \n",
       "25%     104.255459   104.359193     7199.592697    62.409200     1.000000   \n",
       "50%     110.704721   107.633955    11902.142387   411.031675     1.000000   \n",
       "75%     118.899349   111.620794    17119.390322   760.320730     2.000000   \n",
       "max     178.824065   136.771507    31142.774584  2078.685616     2.000000   \n",
       "\n",
       "       variable_cost  \n",
       "count    5000.000000  \n",
       "mean        1.075200  \n",
       "std         0.703736  \n",
       "min         0.000000  \n",
       "25%         1.000000  \n",
       "50%         1.000000  \n",
       "75%         2.000000  \n",
       "max         2.000000  \n",
       "\n",
       "[8 rows x 22 columns]"
      ]
     },
     "execution_count": 129,
     "metadata": {},
     "output_type": "execute_result"
    }
   ],
   "source": [
    "sample[\"fixed_cost\"] = sample.apply(lambda row: map_to_fixed_elevation(row, 500), axis = 1)\n",
    "sample[\"variable_cost\"] = sample.apply(lambda row: map_to_fixed_elevation(row, 700), axis = 1)\n",
    "sample.describe()"
   ]
  },
  {
   "cell_type": "markdown",
   "metadata": {},
   "source": [
    "We visualised the frequency of parcels w.r.t. the amount of gold available and the elevation levels in order to get better domain knowledge of the characteristics of gold mine.  "
   ]
  },
  {
   "cell_type": "code",
   "execution_count": 130,
   "metadata": {
    "collapsed": false
   },
   "outputs": [
    {
     "data": {
      "text/html": [
       "<iframe id=\"igraph\" scrolling=\"no\" style=\"border:none;\" seamless=\"seamless\" src=\"https://plot.ly/~kevllino/455.embed\" height=\"525px\" width=\"100%\"></iframe>"
      ],
      "text/plain": [
       "<plotly.tools.PlotlyDisplay object>"
      ]
     },
     "execution_count": 130,
     "metadata": {},
     "output_type": "execute_result"
    }
   ],
   "source": [
    "# gplot = sample.plot(y=\"gold_available\",kind='hist',title=\"Gold Distribution\")\n",
    "# gplot1 = sample.plot(y=\"elevation\",kind='hist',title=\"Elevation of gold mines\")\n",
    "# gplot.set_xlabel(\"Amount of gold\")\n",
    "# gplot1.set_xlabel(\"Elevation\")\n",
    "\n",
    "\n",
    "data1 = [\n",
    "    go.Histogram(\n",
    "        x=sample['gold_available'],\n",
    "        autobinx=False,\n",
    "        xbins=dict(\n",
    "        start=0,\n",
    "        end=30000,\n",
    "        size=3000\n",
    "    )\n",
    "    )\n",
    "]\n",
    "\n",
    "layout1 = go.Layout(\n",
    "    title='Gold Distribution',\n",
    "    xaxis=dict(\n",
    "        title='gold_available'\n",
    "    ),\n",
    "    yaxis=dict(\n",
    "        title='Frequency'\n",
    "    ),\n",
    "    #barmode='overlay',\n",
    "    bargap=0.05,\n",
    "    #bargroupgap=0.3\n",
    ")\n",
    "\n",
    "fig1 = go.Figure(data=data1, layout=layout1)\n",
    "py.iplot(fig1)\n"
   ]
  },
  {
   "cell_type": "code",
   "execution_count": 44,
   "metadata": {
    "collapsed": false
   },
   "outputs": [
    {
     "data": {
      "text/html": [
       "<iframe id=\"igraph\" scrolling=\"no\" style=\"border:none;\" seamless=\"seamless\" src=\"https://plot.ly/~kevllino/451.embed\" height=\"525px\" width=\"100%\"></iframe>"
      ],
      "text/plain": [
       "<plotly.tools.PlotlyDisplay object>"
      ]
     },
     "execution_count": 44,
     "metadata": {},
     "output_type": "execute_result"
    }
   ],
   "source": [
    "data2 = [\n",
    "    go.Histogram(\n",
    "        x=sample['elevation'],\n",
    "         autobinx=False,\n",
    "        xbins=dict(\n",
    "        start=-1600,\n",
    "        end=1600,\n",
    "        size=300\n",
    "    )   \n",
    "    )\n",
    "]\n",
    "\n",
    "layout2 = go.Layout(\n",
    "    title='Elevation of gold mines',\n",
    "    xaxis=dict(\n",
    "        title='Elevation'\n",
    "    ),\n",
    "    yaxis=dict(\n",
    "        title='Frequency'\n",
    "    ),\n",
    "    #barmode='overlay',\n",
    "    bargap=0.05,\n",
    "    #bargroupgap=0.3\n",
    ")\n",
    "\n",
    "fig2 = go.Figure(data=data2, layout=layout2)\n",
    "py.iplot(fig2)"
   ]
  },
  {
   "cell_type": "markdown",
   "metadata": {},
   "source": [
    "## Clustering "
   ]
  },
  {
   "cell_type": "markdown",
   "metadata": {},
   "source": [
    "In order to decide which parcels we wanted to place a bid on, we used clustering to first continue the previous data exploration. The elbow method enabled us to retrieve a value of K = 3 to run the K-means algorithm. We decided to build clusters along 2 characteristics features: gold_available and elevation."
   ]
  },
  {
   "cell_type": "code",
   "execution_count": 131,
   "metadata": {
    "collapsed": false
   },
   "outputs": [
    {
     "data": {
      "text/html": [
       "<iframe id=\"igraph\" scrolling=\"no\" style=\"border:none;\" seamless=\"seamless\" src=\"https://plot.ly/~kevllino/453.embed\" height=\"525px\" width=\"100%\"></iframe>"
      ],
      "text/plain": [
       "<plotly.tools.PlotlyDisplay object>"
      ]
     },
     "execution_count": 131,
     "metadata": {},
     "output_type": "execute_result"
    }
   ],
   "source": [
    "# choosing K \n",
    "sample_databis = sample.loc[:,[\"gold_available\",\"elevation\"] ]#, \"Northing\",\"gold_available\",\"fixed_cost\",\"variable_cost\"]] ,\"Northing\",\"gold_available\",\"fixed_cost\",\"variable_cost\"\n",
    "hpc = sample_databis.values\n",
    "k_range = range(1, 14)\n",
    "k_means_var = [KMeans(n_clusters=k).fit(hpc) for k in k_range] # fit kmeans model for each n_clusters\n",
    "centroids = [X.cluster_centers_ for X in k_means_var] # pull out centroids of cluster\n",
    "k_euclid = [cdist(hpc, cent, 'euclidean') for cent in centroids] # euclidian distance from each point to each centroid\n",
    "dist = [np.min(ke, axis=1) for ke in k_euclid]\n",
    "\n",
    "wcss = [sum(d**2) for d in dist] # within-cluster sum of squares\n",
    "tss = sum(pdist(hpc)**2)/hpc.shape[0] # total sum of squares\n",
    "\n",
    "bss = tss - wcss # between-cluster sum of squares\n",
    "\n",
    "# Create a trace\n",
    "trace = go.Scatter(\n",
    "    x = k_range,\n",
    "    y = bss\n",
    ")\n",
    "\n",
    "\n",
    "# Edit the layout\n",
    "layout3 = dict(title = 'Elbow method',\n",
    "              xaxis = dict(title = 'K'),\n",
    "              yaxis = dict(title = 'Beetween-cluster sum of squares'),\n",
    "              )\n",
    "\n",
    "# Plot and embed in ipython notebook!\n",
    "fig3 = dict(data=[trace], layout=layout3)\n",
    "py.iplot(fig3, filename='Elbow method')\n"
   ]
  },
  {
   "cell_type": "code",
   "execution_count": 132,
   "metadata": {
    "collapsed": false
   },
   "outputs": [],
   "source": [
    "K = 3\n",
    "kmeans = KMeans(n_clusters=K).fit_predict(sample_databis)\n",
    "# sample_data[\"cluster_id\"] = kmeans\n",
    "sample[\"cluster_id\"] = kmeans"
   ]
  },
  {
   "cell_type": "code",
   "execution_count": 133,
   "metadata": {
    "collapsed": false
   },
   "outputs": [
    {
     "data": {
      "text/html": [
       "<div>\n",
       "<table border=\"1\" class=\"dataframe\">\n",
       "  <thead>\n",
       "    <tr style=\"text-align: right;\">\n",
       "      <th></th>\n",
       "      <th></th>\n",
       "      <th>elevation</th>\n",
       "      <th>gold_available</th>\n",
       "    </tr>\n",
       "    <tr>\n",
       "      <th>cluster_id</th>\n",
       "      <th></th>\n",
       "      <th></th>\n",
       "      <th></th>\n",
       "    </tr>\n",
       "  </thead>\n",
       "  <tbody>\n",
       "    <tr>\n",
       "      <th rowspan=\"8\" valign=\"top\">0</th>\n",
       "      <th>count</th>\n",
       "      <td>1330.000000</td>\n",
       "      <td>1330.000000</td>\n",
       "    </tr>\n",
       "    <tr>\n",
       "      <th>mean</th>\n",
       "      <td>404.379175</td>\n",
       "      <td>20444.422659</td>\n",
       "    </tr>\n",
       "    <tr>\n",
       "      <th>std</th>\n",
       "      <td>505.972661</td>\n",
       "      <td>2509.127777</td>\n",
       "    </tr>\n",
       "    <tr>\n",
       "      <th>min</th>\n",
       "      <td>-920.923932</td>\n",
       "      <td>16758.978816</td>\n",
       "    </tr>\n",
       "    <tr>\n",
       "      <th>25%</th>\n",
       "      <td>38.539848</td>\n",
       "      <td>18330.207012</td>\n",
       "    </tr>\n",
       "    <tr>\n",
       "      <th>50%</th>\n",
       "      <td>396.151943</td>\n",
       "      <td>20182.501302</td>\n",
       "    </tr>\n",
       "    <tr>\n",
       "      <th>75%</th>\n",
       "      <td>755.828554</td>\n",
       "      <td>22208.352331</td>\n",
       "    </tr>\n",
       "    <tr>\n",
       "      <th>max</th>\n",
       "      <td>1883.578941</td>\n",
       "      <td>31142.774584</td>\n",
       "    </tr>\n",
       "    <tr>\n",
       "      <th rowspan=\"8\" valign=\"top\">1</th>\n",
       "      <th>count</th>\n",
       "      <td>1931.000000</td>\n",
       "      <td>1931.000000</td>\n",
       "    </tr>\n",
       "    <tr>\n",
       "      <th>mean</th>\n",
       "      <td>413.914922</td>\n",
       "      <td>6197.714968</td>\n",
       "    </tr>\n",
       "    <tr>\n",
       "      <th>std</th>\n",
       "      <td>497.542097</td>\n",
       "      <td>1973.817489</td>\n",
       "    </tr>\n",
       "    <tr>\n",
       "      <th>min</th>\n",
       "      <td>-1359.020531</td>\n",
       "      <td>2357.148816</td>\n",
       "    </tr>\n",
       "    <tr>\n",
       "      <th>25%</th>\n",
       "      <td>77.618960</td>\n",
       "      <td>4571.619880</td>\n",
       "    </tr>\n",
       "    <tr>\n",
       "      <th>50%</th>\n",
       "      <td>410.441422</td>\n",
       "      <td>6106.238442</td>\n",
       "    </tr>\n",
       "    <tr>\n",
       "      <th>75%</th>\n",
       "      <td>752.867611</td>\n",
       "      <td>7914.823022</td>\n",
       "    </tr>\n",
       "    <tr>\n",
       "      <th>max</th>\n",
       "      <td>1919.009149</td>\n",
       "      <td>9625.599539</td>\n",
       "    </tr>\n",
       "    <tr>\n",
       "      <th rowspan=\"8\" valign=\"top\">2</th>\n",
       "      <th>count</th>\n",
       "      <td>1739.000000</td>\n",
       "      <td>1739.000000</td>\n",
       "    </tr>\n",
       "    <tr>\n",
       "      <th>mean</th>\n",
       "      <td>407.124805</td>\n",
       "      <td>13062.499277</td>\n",
       "    </tr>\n",
       "    <tr>\n",
       "      <th>std</th>\n",
       "      <td>508.965050</td>\n",
       "      <td>2014.127530</td>\n",
       "    </tr>\n",
       "    <tr>\n",
       "      <th>min</th>\n",
       "      <td>-1176.944995</td>\n",
       "      <td>9643.477605</td>\n",
       "    </tr>\n",
       "    <tr>\n",
       "      <th>25%</th>\n",
       "      <td>61.109307</td>\n",
       "      <td>11358.963481</td>\n",
       "    </tr>\n",
       "    <tr>\n",
       "      <th>50%</th>\n",
       "      <td>421.039296</td>\n",
       "      <td>12993.520356</td>\n",
       "    </tr>\n",
       "    <tr>\n",
       "      <th>75%</th>\n",
       "      <td>774.653226</td>\n",
       "      <td>14763.022516</td>\n",
       "    </tr>\n",
       "    <tr>\n",
       "      <th>max</th>\n",
       "      <td>2078.685616</td>\n",
       "      <td>16742.645404</td>\n",
       "    </tr>\n",
       "  </tbody>\n",
       "</table>\n",
       "</div>"
      ],
      "text/plain": [
       "                    elevation  gold_available\n",
       "cluster_id                                   \n",
       "0          count  1330.000000     1330.000000\n",
       "           mean    404.379175    20444.422659\n",
       "           std     505.972661     2509.127777\n",
       "           min    -920.923932    16758.978816\n",
       "           25%      38.539848    18330.207012\n",
       "           50%     396.151943    20182.501302\n",
       "           75%     755.828554    22208.352331\n",
       "           max    1883.578941    31142.774584\n",
       "1          count  1931.000000     1931.000000\n",
       "           mean    413.914922     6197.714968\n",
       "           std     497.542097     1973.817489\n",
       "           min   -1359.020531     2357.148816\n",
       "           25%      77.618960     4571.619880\n",
       "           50%     410.441422     6106.238442\n",
       "           75%     752.867611     7914.823022\n",
       "           max    1919.009149     9625.599539\n",
       "2          count  1739.000000     1739.000000\n",
       "           mean    407.124805    13062.499277\n",
       "           std     508.965050     2014.127530\n",
       "           min   -1176.944995     9643.477605\n",
       "           25%      61.109307    11358.963481\n",
       "           50%     421.039296    12993.520356\n",
       "           75%     774.653226    14763.022516\n",
       "           max    2078.685616    16742.645404"
      ]
     },
     "execution_count": 133,
     "metadata": {},
     "output_type": "execute_result"
    }
   ],
   "source": [
    "# statistics summary of the clustered data \n",
    "sample.loc[:,[\"cluster_id\",\"elevation\",\"gold_available\"]].groupby(\"cluster_id\").describe()"
   ]
  },
  {
   "cell_type": "code",
   "execution_count": 134,
   "metadata": {
    "collapsed": false
   },
   "outputs": [
    {
     "data": {
      "text/plain": [
       "array([[  6235.12179977,    415.35985293],\n",
       "       [ 20497.41668316,    405.28883626],\n",
       "       [ 13144.20550214,    404.70233489]])"
      ]
     },
     "execution_count": 134,
     "metadata": {},
     "output_type": "execute_result"
    }
   ],
   "source": [
    "# retrieving the cluster centers coordinates \n",
    "centers = KMeans(n_clusters=K).fit(sample_databis).cluster_centers_\n",
    "centers"
   ]
  },
  {
   "cell_type": "markdown",
   "metadata": {},
   "source": [
    "## Graphical method \n",
    "\n",
    "Given the provided data and the previous cluster analysis, we first plotted the auctions of the 3 clusters. Then, we foccused on the 3rd cluster category, i.e. with medium elevation values for reduced exploitation costs and high amount of gold (gold_amount > 20000 oz). We plotted the cluster 3 along with the available parcels for auction. That way, we were able to determine the parcels which were the most profitable to invest in. \n",
    "\n",
    "In fact, our bidding strategy was to invest all our money into the 5 most profitable parcels according to our estimations. "
   ]
  },
  {
   "cell_type": "code",
   "execution_count": 139,
   "metadata": {
    "collapsed": false
   },
   "outputs": [
    {
     "data": {
      "image/png": "[encoded data removed]",
      "text/plain": [
       "<matplotlib.figure.Figure at 0x10671f5d0>"
      ]
     },
     "metadata": {},
     "output_type": "display_data"
    }
   ],
   "source": [
    "fig = plt.gcf()\n",
    "fig.set_size_inches(18.5, 10.5, forward=True)\n",
    "plt.axis([0.0,150.0, 0.0,150.0])\n",
    "for i, col in zip(range(0,K),['green','orange','blue','red','black']):\n",
    "      #plt.scatter(sample_data[sample_data[\"cluster_id\"]==i].loc[:,\"Easting\"],sample_data[sample_data[\"cluster_id\"]==i].loc[:,\"Northing\"],c=col,marker='o')\n",
    "    plt.scatter(sample[sample[\"cluster_id\"]==i].loc[:,\"Easting\"],sample[sample[\"cluster_id\"]==i].loc[:,\"Northing\"],c=col,marker='o')\n",
    "\n",
    "for i in range(0,K): \n",
    "     plt.scatter(centers[i][0],centers[i][1],s=300,c='black',marker='*')"
   ]
  },
  {
   "cell_type": "code",
   "execution_count": 447,
   "metadata": {
    "collapsed": false
   },
   "outputs": [],
   "source": [
    "# aument costs _data \n",
    "regr = linear_model.LinearRegression()\n",
    "X_train  = costs_data.loc[:10, [\"gold_amount\"]]\n",
    "X_test =  costs_data.loc[11:, [\"gold_amount\"]]\n",
    "for elev in [\"low\", \"med\", \"high\"]:\n",
    "    y_train  = costs_data.loc[:10,elev]\n",
    "    regr.fit(X_train,y_train)\n",
    "    pred = regr.predict(X_test)\n",
    "    costs_data.loc[11:,elev] = pred"
   ]
  },
  {
   "cell_type": "markdown",
   "metadata": {},
   "source": [
    "A good cluster has elevation medium because lowest fixed costs highest gold amount. "
   ]
  },
  {
   "cell_type": "code",
   "execution_count": 477,
   "metadata": {
    "collapsed": false
   },
   "outputs": [
    {
     "data": {
      "image/png": "[encoded data removed]",
      "text/plain": [
       "<matplotlib.figure.Figure at 0x12f2c2b90>"
      ]
     },
     "metadata": {},
     "output_type": "display_data"
    }
   ],
   "source": [
    "fig = matplotlib.pyplot.gcf()\n",
    "fig.set_size_inches(18.5, 10.5, forward=True)\n",
    "plt.axis([0.0,150.0, 0.0,150.0])\n",
    "plt.scatter(sample[sample[\"cluster_id\"]==2].loc[:,\"Easting\"],sample[sample[\"cluster_id\"]==2].loc[:,\"Northing\"],c=col,marker='o')\n",
    "for index, parcel in auction_parcels.iterrows():\n",
    "    plt.scatter(auction_parcels['Easting'], auction_parcels['Northing'],color='red',label=str(auction_parcels['parcel_id']))"
   ]
  },
  {
   "cell_type": "code",
   "execution_count": 507,
   "metadata": {
    "collapsed": false
   },
   "outputs": [
    {
     "data": {
      "text/html": [
       "<iframe id=\"igraph\" scrolling=\"no\" style=\"border:none;\" seamless=\"seamless\" src=\"https://plot.ly/~kevllino/397.embed\" height=\"525px\" width=\"100%\"></iframe>"
      ],
      "text/plain": [
       "<plotly.tools.PlotlyDisplay object>"
      ]
     },
     "execution_count": 507,
     "metadata": {},
     "output_type": "execute_result"
    }
   ],
   "source": [
    "l= []\n",
    "trace = go.Scatter(\n",
    "        x= auction_parcels['Easting'],\n",
    "        y= auction_parcels['Northing'],\n",
    "        mode= 'markers+text',\n",
    " marker= dict(size= 5,\n",
    "                    line= dict(width=1),\n",
    "                    opacity= 0.3,\n",
    "              color = 'red'\n",
    "                   ),\n",
    "    #,name= y[i],\n",
    "        text= auction_parcels['parcel_id'])\n",
    "trace2 = go.Scatter(\n",
    "    x = sample[sample[\"cluster_id\"]==2].loc[:,\"Easting\"], \n",
    "    y = sample[sample[\"cluster_id\"]==2].loc[:,\"Northing\"],\n",
    "     mode= 'markers',\n",
    " marker= dict(size= 3,\n",
    "                    line= dict(width=1),\n",
    "                    opacity= 0.5,\n",
    "                  color = 'blue'\n",
    "                   )\n",
    ")\n",
    "l.append(trace)\n",
    "l.append(trace2)\n",
    "fig= go.Figure(data=l)\n",
    "py.iplot(fig)    "
   ]
  },
  {
   "cell_type": "markdown",
   "metadata": {
    "collapsed": false
   },
   "source": [
    "This graphical analysis resulted in the following list of most interesting parcels to invest in:\n",
    "\n",
    "firstfilter = [10226, 7837, 19114, 20194, 11489,10905,1790,13249,14154,12810,1614,12221]"
   ]
  },
  {
   "cell_type": "markdown",
   "metadata": {},
   "source": [
    "## Let's predict whether a parcel contain a high amount of gold - WIP maybe "
   ]
  },
  {
   "cell_type": "code",
   "execution_count": 51,
   "metadata": {
    "collapsed": false
   },
   "outputs": [],
   "source": [
    "from sklearn.preprocessing import normalize\n",
    "from sklearn import metrics\n",
    "from sklearn.metrics import accuracy_score\n",
    "from sklearn.cross_validation import cross_val_score\n",
    "from sklearn.cross_validation import train_test_split\n",
    "from sklearn.feature_extraction.text import CountVectorizer\n",
    "from sklearn.feature_extraction.text import TfidfTransformer\n",
    "from sklearn.naive_bayes import MultinomialNB\n",
    "from sklearn.linear_model import LogisticRegression\n",
    "from sklearn.pipeline import Pipeline\n",
    "from sklearn.grid_search import GridSearchCV\n",
    "from sklearn.svm import SVC\n",
    "from sklearn.svm import LinearSVC"
   ]
  },
  {
   "cell_type": "markdown",
   "metadata": {},
   "source": [
    "One strategy would have to construct the minerals and ores as they are not present in the auction data, by using clustering on those features for example, assigning each parcel to a cluster and completing the auction parcel dataframe with the average value for each feature of each cluster. \n",
    "\n",
    "For simplicity we chose to only use the rocks categories features. Therefore we trained our classification models by extracting the previous features and normized those continuous values. "
   ]
  },
  {
   "cell_type": "code",
   "execution_count": 178,
   "metadata": {
    "collapsed": false
   },
   "outputs": [],
   "source": [
    "features = auction_parcels.columns.tolist()\n",
    "features.append(\"gold_available\")\n",
    "features.pop(1)\n",
    "features.pop(1)\n",
    "features.pop(0)\n",
    "sample2 = sample_data.merge(elevation, on=\"parcel_id\")\n",
    "sample_set = sample2.loc[:,features]\n",
    "sample_set.loc[:,[\"elevation\",\"Arkonor\",\"Mercoxit\",\"Bistot\",\"Crokite\"]] = normalize(sample_set.loc[:,[\"elevation\",\"Arkonor\",\"Mercoxit\",\"Bistot\",\"Crokite\"]], axis =0)"
   ]
  },
  {
   "cell_type": "code",
   "execution_count": 98,
   "metadata": {
    "collapsed": true
   },
   "outputs": [],
   "source": [
    "def label_gold_amount(row, threshold): \n",
    "    if row[\"gold_available\"]  < threshold: \n",
    "        return 0 \n",
    "    elif row[\"gold_available\"]  >= threshold: \n",
    "        return 1 \n",
    "sample_set[\"gold_available\"] = sample_set.apply(lambda row: label_gold_amount(row, 10000), axis = 1)"
   ]
  },
  {
   "cell_type": "code",
   "execution_count": 104,
   "metadata": {
    "collapsed": false
   },
   "outputs": [],
   "source": [
    "def label_gold_amount(row): \n",
    "    if row[\"gold_available\"]> 0 and row[\"gold_available\"]  <= 10000: \n",
    "        return 0 \n",
    "    elif row[\"gold_available\"]> 10000 and row[\"gold_available\"]  <= 20000: \n",
    "        return 1 \n",
    "    else:\n",
    "        return 2 \n",
    "sample_set[\"gold_available\"] = sample_set.apply(lambda row: label_gold_amount(row), axis = 1)"
   ]
  },
  {
   "cell_type": "code",
   "execution_count": 106,
   "metadata": {
    "collapsed": false
   },
   "outputs": [],
   "source": [
    "#sample_set\n",
    "X_train, X_test, y_train, y_test = train_test_split(sample_set.iloc[:,0:5],sample_set.iloc[:,5],test_size=0.05)"
   ]
  },
  {
   "cell_type": "code",
   "execution_count": 107,
   "metadata": {
    "collapsed": false
   },
   "outputs": [],
   "source": [
    "logreg = LogisticRegression(multi_class='ovr') # \n",
    "param_range = [0.001, 0.01, 0.1, 1, 10, 100, 1000]\n",
    "gs = GridSearchCV(estimator=logreg,param_grid= {'C': [0.001, 0.01, 0.1, 1, 10, 100, 1000], 'penalty': ['l1','l2'] },scoring='accuracy',cv=5,n_jobs=-1)"
   ]
  },
  {
   "cell_type": "code",
   "execution_count": 108,
   "metadata": {
    "collapsed": false
   },
   "outputs": [
    {
     "data": {
      "text/plain": [
       "GridSearchCV(cv=5, error_score='raise',\n",
       "       estimator=LogisticRegression(C=1.0, class_weight=None, dual=False, fit_intercept=True,\n",
       "          intercept_scaling=1, max_iter=100, multi_class='ovr', n_jobs=1,\n",
       "          penalty='l2', random_state=None, solver='liblinear', tol=0.0001,\n",
       "          verbose=0, warm_start=False),\n",
       "       fit_params={}, iid=True, n_jobs=-1,\n",
       "       param_grid={'penalty': ['l1', 'l2'], 'C': [0.001, 0.01, 0.1, 1, 10, 100, 1000]},\n",
       "       pre_dispatch='2*n_jobs', refit=True, scoring='accuracy', verbose=0)"
      ]
     },
     "execution_count": 108,
     "metadata": {},
     "output_type": "execute_result"
    }
   ],
   "source": [
    "gs.fit(X_train,y_train)"
   ]
  },
  {
   "cell_type": "code",
   "execution_count": 109,
   "metadata": {
    "collapsed": false
   },
   "outputs": [
    {
     "data": {
      "text/plain": [
       "0.52989473684210531"
      ]
     },
     "execution_count": 109,
     "metadata": {},
     "output_type": "execute_result"
    }
   ],
   "source": [
    "gs.best_score_"
   ]
  },
  {
   "cell_type": "code",
   "execution_count": 110,
   "metadata": {
    "collapsed": false
   },
   "outputs": [
    {
     "data": {
      "text/plain": [
       "{'C': 100, 'penalty': 'l1'}"
      ]
     },
     "execution_count": 110,
     "metadata": {},
     "output_type": "execute_result"
    }
   ],
   "source": [
    "gs.best_params_"
   ]
  },
  {
   "cell_type": "code",
   "execution_count": 111,
   "metadata": {
    "collapsed": false
   },
   "outputs": [
    {
     "name": "stdout",
     "output_type": "stream",
     "text": [
      "Test accuracy: 53.20 %\n"
     ]
    }
   ],
   "source": [
    "print('Test accuracy: %.2f %%' % (gs.score(X_test, y_test)*100))"
   ]
  },
  {
   "cell_type": "code",
   "execution_count": 124,
   "metadata": {
    "collapsed": false
   },
   "outputs": [
    {
     "data": {
      "text/plain": [
       "664"
      ]
     },
     "execution_count": 124,
     "metadata": {},
     "output_type": "execute_result"
    }
   ],
   "source": [
    "sum(y_train == 2)"
   ]
  },
  {
   "cell_type": "code",
   "execution_count": 113,
   "metadata": {
    "collapsed": false
   },
   "outputs": [
    {
     "data": {
      "text/html": [
       "<div>\n",
       "<table border=\"1\" class=\"dataframe\">\n",
       "  <thead>\n",
       "    <tr style=\"text-align: right;\">\n",
       "      <th></th>\n",
       "      <th>parcel_id</th>\n",
       "      <th>elevation</th>\n",
       "      <th>Arkonor</th>\n",
       "      <th>Mercoxit</th>\n",
       "      <th>Bistot</th>\n",
       "      <th>Crokite</th>\n",
       "    </tr>\n",
       "  </thead>\n",
       "  <tbody>\n",
       "    <tr>\n",
       "      <th>0</th>\n",
       "      <td>515</td>\n",
       "      <td>0.004863</td>\n",
       "      <td>0.141748</td>\n",
       "      <td>0.130815</td>\n",
       "      <td>0.134799</td>\n",
       "      <td>0.133601</td>\n",
       "    </tr>\n",
       "    <tr>\n",
       "      <th>1</th>\n",
       "      <td>914</td>\n",
       "      <td>0.164621</td>\n",
       "      <td>0.135439</td>\n",
       "      <td>0.134627</td>\n",
       "      <td>0.138784</td>\n",
       "      <td>0.142540</td>\n",
       "    </tr>\n",
       "    <tr>\n",
       "      <th>2</th>\n",
       "      <td>1538</td>\n",
       "      <td>0.263969</td>\n",
       "      <td>0.136843</td>\n",
       "      <td>0.142994</td>\n",
       "      <td>0.134596</td>\n",
       "      <td>0.127829</td>\n",
       "    </tr>\n",
       "    <tr>\n",
       "      <th>3</th>\n",
       "      <td>1790</td>\n",
       "      <td>0.099440</td>\n",
       "      <td>0.134950</td>\n",
       "      <td>0.141071</td>\n",
       "      <td>0.134163</td>\n",
       "      <td>0.136110</td>\n",
       "    </tr>\n",
       "    <tr>\n",
       "      <th>4</th>\n",
       "      <td>2416</td>\n",
       "      <td>0.332363</td>\n",
       "      <td>0.151359</td>\n",
       "      <td>0.150069</td>\n",
       "      <td>0.144281</td>\n",
       "      <td>0.141832</td>\n",
       "    </tr>\n",
       "  </tbody>\n",
       "</table>\n",
       "</div>"
      ],
      "text/plain": [
       "   parcel_id  elevation   Arkonor  Mercoxit    Bistot   Crokite\n",
       "0        515   0.004863  0.141748  0.130815  0.134799  0.133601\n",
       "1        914   0.164621  0.135439  0.134627  0.138784  0.142540\n",
       "2       1538   0.263969  0.136843  0.142994  0.134596  0.127829\n",
       "3       1790   0.099440  0.134950  0.141071  0.134163  0.136110\n",
       "4       2416   0.332363  0.151359  0.150069  0.144281  0.141832"
      ]
     },
     "execution_count": 113,
     "metadata": {},
     "output_type": "execute_result"
    }
   ],
   "source": [
    "# X_test\n",
    "auction_parcels_processedtmp = auction_parcels\n",
    "auction_parcels_processedtmp.loc[:,[\"elevation\",\"Arkonor\",\"Mercoxit\",\"Bistot\",\"Crokite\"]] = normalize(auction_parcels.loc[:,[\"elevation\",\"Arkonor\",\"Mercoxit\",\"Bistot\",\"Crokite\"]], axis =0)\n",
    "auction_parcels_processed = auction_parcels_processedtmp.loc[:,[\"parcel_id\",\"elevation\",\"Arkonor\",\"Mercoxit\",\"Bistot\",\"Crokite\"]]\n",
    "auction_parcels_processed.head()"
   ]
  },
  {
   "cell_type": "code",
   "execution_count": 116,
   "metadata": {
    "collapsed": false
   },
   "outputs": [
    {
     "data": {
      "text/plain": [
       "array([0, 0, 0, 0, 0, 0, 0, 0, 0, 0, 0, 0, 0, 0, 0, 0, 0, 0, 0, 0, 0, 0, 0,\n",
       "       0, 0, 0, 0, 0, 0, 0, 0, 0, 0, 0, 0, 0, 0, 0, 0, 0, 0, 0, 0, 0, 0, 0,\n",
       "       0, 0, 0, 0])"
      ]
     },
     "execution_count": 116,
     "metadata": {},
     "output_type": "execute_result"
    }
   ],
   "source": [
    "gs.predict(auction_parcels_processed.iloc[:,1:])"
   ]
  },
  {
   "cell_type": "code",
   "execution_count": 120,
   "metadata": {
    "collapsed": true
   },
   "outputs": [],
   "source": [
    "svc = SVC(random_state=1)\n",
    "param_range2 = [0.0001, 0.001, 0.01, 0.1, 1.0, 10.0, 100.0, 1000.0]\n",
    "param_grid2 = [{'C': param_range2,'kernel': ['linear']},\n",
    "              {'C': param_range2,'kernel': ['rbf']}]\n",
    "gs2 = GridSearchCV(estimator=svc,param_grid=param_grid2,scoring='accuracy',cv=3,n_jobs=-1)"
   ]
  },
  {
   "cell_type": "code",
   "execution_count": 121,
   "metadata": {
    "collapsed": false
   },
   "outputs": [
    {
     "data": {
      "text/plain": [
       "GridSearchCV(cv=3, error_score='raise',\n",
       "       estimator=SVC(C=1.0, cache_size=200, class_weight=None, coef0=0.0,\n",
       "  decision_function_shape=None, degree=3, gamma='auto', kernel='rbf',\n",
       "  max_iter=-1, probability=False, random_state=1, shrinking=True,\n",
       "  tol=0.001, verbose=False),\n",
       "       fit_params={}, iid=True, n_jobs=-1,\n",
       "       param_grid=[{'kernel': ['linear'], 'C': [0.0001, 0.001, 0.01, 0.1, 1.0, 10.0, 100.0, 1000.0]}, {'kernel': ['rbf'], 'C': [0.0001, 0.001, 0.01, 0.1, 1.0, 10.0, 100.0, 1000.0]}],\n",
       "       pre_dispatch='2*n_jobs', refit=True, scoring='accuracy', verbose=0)"
      ]
     },
     "execution_count": 121,
     "metadata": {},
     "output_type": "execute_result"
    }
   ],
   "source": [
    "gs2.fit(X_train,y_train)"
   ]
  },
  {
   "cell_type": "code",
   "execution_count": 122,
   "metadata": {
    "collapsed": false
   },
   "outputs": [
    {
     "data": {
      "text/plain": [
       "array([0, 0, 0, 0, 0, 0, 0, 0, 0, 0, 0, 0, 0, 0, 0, 0, 0, 0, 0, 0, 0, 0, 0,\n",
       "       0, 0, 0, 0, 0, 0, 0, 0, 0, 0, 0, 0, 0, 0, 0, 0, 0, 0, 0, 0, 0, 0, 0,\n",
       "       0, 0, 0, 0])"
      ]
     },
     "execution_count": 122,
     "metadata": {},
     "output_type": "execute_result"
    }
   ],
   "source": [
    "gs2.predict(auction_parcels_processed.iloc[:,1:])"
   ]
  },
  {
   "cell_type": "markdown",
   "metadata": {},
   "source": [
    "## Clustering 2"
   ]
  },
  {
   "cell_type": "code",
   "execution_count": 225,
   "metadata": {
    "collapsed": false
   },
   "outputs": [],
   "source": [
    "sample2 = sample_data.merge(elevation, on=\"parcel_id\")\n",
    "features2 = features\n",
    "sample_databis2 = sample2.loc[:,features2]\n",
    "kmeans2 = KMeans(n_clusters=5).fit_predict(sample_databis2)\n",
    "sample2[\"cluster_id\"] = kmeans2"
   ]
  },
  {
   "cell_type": "code",
   "execution_count": 226,
   "metadata": {
    "collapsed": false
   },
   "outputs": [],
   "source": [
    "# statistics summary of the clustered data \n",
    "listo = sample2.columns.tolist()\n",
    "listo.remove('Northing')\n",
    "all_features = set(listo)\n",
    "sample3 = sample2\n",
    "reference = sample3.loc[:,all_features - set(features2)].groupby('cluster_id').mean()\n"
   ]
  },
  {
   "cell_type": "code",
   "execution_count": 1,
   "metadata": {
    "collapsed": false
   },
   "outputs": [],
   "source": [
    "# filtre = ['Arkonor','Mercoxit','Bistot','Crokite', 'elevation']\n",
    "# filtros = ['Arkonor','Mercoxit','Bistot','Crokite', 'elevation', 'cluster_id']\n",
    "# refera = sample3.loc[:, filtros].groupby('cluster_id').describe()\n",
    "\n",
    "# def assign_cluster(row): \n",
    "#     for i in xrange(5):\n",
    "#         for val in filtre: \n",
    "#             print(i + \" \" + val )\n",
    "#             # if(row[val] > refera.loc[i, :].min()[val] and row[val] < refera.loc[i, :].max()[val]):\n",
    "#                 # row['cluster_id'] = i\n",
    "\n",
    "# auction_pracels2 = auction_parcels \n",
    "# auction_pracels2.apply(lambda row: assign_cluster(row), axis = 1)\n",
    "# # refera.loc[0, :].min()"
   ]
  },
  {
   "cell_type": "code",
   "execution_count": null,
   "metadata": {
    "collapsed": true
   },
   "outputs": [],
   "source": [
    "missing_list = reference.columns.tolist()\n",
    "def enrich_auction(row): \n",
    "    for i in xrange(5):\n",
    "        if row['cluster_id'] == i:\n",
    "            row[missing_list] = reference.loc[i, :]"
   ]
  },
  {
   "cell_type": "code",
   "execution_count": 236,
   "metadata": {
    "collapsed": false
   },
   "outputs": [],
   "source": [
    "#acution_pracels2 = auction_parcels \n",
    "#acution_pracels2.apply(lambda row: enrich_auction(row), axis = 1)"
   ]
  },
  {
   "cell_type": "code",
   "execution_count": 259,
   "metadata": {
    "collapsed": false
   },
   "outputs": [],
   "source": [
    "\n",
    "# sample2.loc[:,features.append['cluster_id']]"
   ]
  },
  {
   "cell_type": "code",
   "execution_count": 264,
   "metadata": {
    "collapsed": false
   },
   "outputs": [
    {
     "data": {
      "text/plain": [
       "Arkonor         7.092485\n",
       "Bistot         10.804418\n",
       "Crokite         5.419970\n",
       "Mercoxit        7.515567\n",
       "elevation   -1359.020531\n",
       "dtype: float64"
      ]
     },
     "execution_count": 264,
     "metadata": {},
     "output_type": "execute_result"
    }
   ],
   "source": [
    "refera.min()"
   ]
  },
  {
   "cell_type": "code",
   "execution_count": 302,
   "metadata": {
    "collapsed": false
   },
   "outputs": [
    {
     "name": "stdout",
     "output_type": "stream",
     "text": [
      "0 Arkonor\n",
      "0 Mercoxit\n",
      "0 Bistot\n",
      "0 Crokite\n",
      "0 elevation\n",
      "1 Arkonor\n",
      "1 Mercoxit\n",
      "1 Bistot\n",
      "1 Crokite\n",
      "1 elevation\n",
      "2 Arkonor\n",
      "2 Mercoxit\n",
      "2 Bistot\n",
      "2 Crokite\n",
      "2 elevation\n",
      "3 Arkonor\n",
      "3 Mercoxit\n",
      "3 Bistot\n",
      "3 Crokite\n",
      "3 elevation\n",
      "4 Arkonor\n",
      "4 Mercoxit\n",
      "4 Bistot\n",
      "4 Crokite\n",
      "4 elevation\n"
     ]
    }
   ],
   "source": [
    "for i in xrange(5):\n",
    "      for val in filtre: \n",
    "            print(str(i) + \" \" + val )"
   ]
  },
  {
   "cell_type": "code",
   "execution_count": null,
   "metadata": {
    "collapsed": true
   },
   "outputs": [],
   "source": []
  }
 ],
 "metadata": {
  "kernelspec": {
   "display_name": "Python [Root]",
   "language": "python",
   "name": "Python [Root]"
  },
  "language_info": {
   "codemirror_mode": {
    "name": "ipython",
    "version": 2
   },
   "file_extension": ".py",
   "mimetype": "text/x-python",
   "name": "python",
   "nbconvert_exporter": "python",
   "pygments_lexer": "ipython2",
   "version": "2.7.12"
  }
 },
 "nbformat": 4,
 "nbformat_minor": 0
}
